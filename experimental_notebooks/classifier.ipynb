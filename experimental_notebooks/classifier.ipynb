{
 "cells": [
  {
   "cell_type": "code",
   "execution_count": 1,
   "metadata": {
    "collapsed": true
   },
   "outputs": [],
   "source": [
    "import scipy.io as sio\n",
    "import scipy\n",
    "import cv2\n",
    "import numpy as np\n",
    "import pandas as pd\n",
    "import matplotlib.pyplot as plt\n",
    "import json\n",
    "import math\n",
    "import pickle\n",
    "from sklearn.cluster import KMeans, AgglomerativeClustering\n",
    "from skimage.feature import hog\n",
    "\n",
    "from sklearn.svm import LinearSVC\n",
    "from sklearn.model_selection import train_test_split\n",
    "from sklearn.metrics import average_precision_score"
   ]
  },
  {
   "cell_type": "code",
   "execution_count": 2,
   "metadata": {
    "collapsed": true
   },
   "outputs": [],
   "source": [
    "# Load training data\n",
    "training_data_map = pickle.load(open( \"training_data.p\", \"rb\" ))\n",
    "# Create hog features \n",
    "# Train linear SVM\n",
    "# Test SVM "
   ]
  },
  {
   "cell_type": "code",
   "execution_count": 3,
   "metadata": {
    "collapsed": true
   },
   "outputs": [],
   "source": [
    "def get_hog_features(img_file):\n",
    "    img = cv2.imread(img_file)\n",
    "    orient = 11\n",
    "    pix_per_cell = 16\n",
    "    cell_per_block = 2\n",
    "    feature_vec = []\n",
    "    for channel in range(0,3):\n",
    "        features = hog(img[:,:,channel], orientations=orient, \n",
    "                                  pixels_per_cell=(pix_per_cell, pix_per_cell),\n",
    "                                  cells_per_block=(cell_per_block, cell_per_block), \n",
    "                                  transform_sqrt=False, \n",
    "                                  visualise=False, feature_vector=True)\n",
    "        #print('Feature length: ', len(features))\n",
    "        feature_vec = feature_vec + list(features)\n",
    "        \n",
    "    return feature_vec\n",
    "\n",
    "def get_features(img_ids):\n",
    "    cropped_imgs = 'mp2/cropped_imgs/'\n",
    "    feature_arr = []\n",
    "    for img_id in img_ids:\n",
    "        img_file = cropped_imgs+str(img_id) + '.jpeg'\n",
    "        feature_vec = get_hog_features(img_file)\n",
    "        feature_arr.append(feature_vec)\n",
    "    return feature_arr\n",
    "\n",
    "def get_train_test_dataset(pos_imgs, neg_imgs):\n",
    "    pos_features = get_features(pos_imgs)\n",
    "    neg_features = get_features(neg_imgs)\n",
    "    X = np.vstack((pos_features, neg_features)).astype(np.float64)  \n",
    "    y = np.hstack((np.ones(len(pos_features)), np.zeros(len(neg_features))))\n",
    "    X_train, X_test, y_train, y_test = train_test_split(\n",
    "        X, y, test_size=0.2, random_state=42)\n",
    "    \n",
    "    return X_train, X_test, y_train, y_test\n",
    "\n",
    "\n",
    "def test_all_classes(train_data_map):\n",
    "    keys = train_data_map.keys()\n",
    "    class_score_map = {}\n",
    "    saved_model_map = {}\n",
    "    for key in keys:\n",
    "        pos_imgs, neg_imgs = train_data_map[key]\n",
    "        X_train, X_test, y_train, y_test = get_train_test_dataset(pos_imgs, neg_imgs)\n",
    "        svc = LinearSVC(C=0.1, random_state=42)\n",
    "        svc.fit(X_train, y_train)\n",
    "        score = svc.score(X_test, y_test)\n",
    "        class_score_map[key] = score\n",
    "        saved_model_map[key] = svc\n",
    "        \n",
    "    pickle.dump(saved_model_map, open('saved_model_map.p', 'wb'))\n",
    "    return class_score_map"
   ]
  },
  {
   "cell_type": "code",
   "execution_count": 4,
   "metadata": {},
   "outputs": [
    {
     "name": "stdout",
     "output_type": "stream",
     "text": [
      "dict_keys([4544, 1794, 2038, 6854, 586, 11211, 8525, 4431, 10192, 11665, 2901, 8790, 3735, 3929, 2843, 8717, 3807, 3684, 12133, 8143, 359, 7247, 6704, 6833, 9523, 10422, 1594, 9753])\n"
     ]
    }
   ],
   "source": [
    "print(training_data_map.keys())"
   ]
  },
  {
   "cell_type": "code",
   "execution_count": 5,
   "metadata": {},
   "outputs": [
    {
     "name": "stdout",
     "output_type": "stream",
     "text": [
      "3300\n"
     ]
    },
    {
     "name": "stderr",
     "output_type": "stream",
     "text": [
      "/Users/saurabh/anaconda3/lib/python3.5/site-packages/skimage/feature/_hog.py:119: skimage_deprecation: Default value of `block_norm`==`L1` is deprecated and will be changed to `L2-Hys` in v0.15\n",
      "  'be changed to `L2-Hys` in v0.15', skimage_deprecation)\n"
     ]
    }
   ],
   "source": [
    "cropped_imgs = 'mp2/cropped_imgs/'\n",
    "test_img = training_data_map[4544][0][0]\n",
    "feature_vec = get_hog_features(cropped_imgs+str(test_img)+'.jpeg')\n",
    "print(len(feature_vec))"
   ]
  },
  {
   "cell_type": "code",
   "execution_count": 6,
   "metadata": {},
   "outputs": [
    {
     "name": "stderr",
     "output_type": "stream",
     "text": [
      "/Users/saurabh/anaconda3/lib/python3.5/site-packages/skimage/feature/_hog.py:119: skimage_deprecation: Default value of `block_norm`==`L1` is deprecated and will be changed to `L2-Hys` in v0.15\n",
      "  'be changed to `L2-Hys` in v0.15', skimage_deprecation)\n"
     ]
    }
   ],
   "source": [
    "pos_imgs = training_data_map[4544][0]\n",
    "neg_imgs = training_data_map[4544][1]\n",
    "\n",
    "X_train, X_test, y_train, y_test = get_train_test_dataset(pos_imgs, neg_imgs)\n"
   ]
  },
  {
   "cell_type": "code",
   "execution_count": 7,
   "metadata": {},
   "outputs": [
    {
     "name": "stdout",
     "output_type": "stream",
     "text": [
      "SVM test score:  0.851063829787\n",
      "Average precision-recall score: 0.95\n"
     ]
    }
   ],
   "source": [
    "svc = LinearSVC(C=0.1, random_state=42)\n",
    "svc.fit(X_train, y_train)\n",
    "score = svc.score(X_test, y_test)\n",
    "y_score = svc.decision_function(X_test)\n",
    "average_precision = average_precision_score(y_test, y_score)\n",
    "\n",
    "print('SVM test score: ', score)    \n",
    "\n",
    "print('Average precision-recall score: {0:0.2f}'.format(\n",
    "      average_precision))"
   ]
  },
  {
   "cell_type": "code",
   "execution_count": 8,
   "metadata": {},
   "outputs": [
    {
     "name": "stdout",
     "output_type": "stream",
     "text": [
      "[ 1.  0.  0.  1.  0.  1.  0.  1.  0.  1.  0.  1.  0.  1.  0.  0.  1.  1.\n",
      "  0.  1.  0.  1.  1.  0.  0.  1.  1.  0.  1.  1.  0.  1.  1.  0.  0.  0.\n",
      "  0.  1.  0.  0.  0.  0.  0.  1.  0.  0.  1.]\n",
      "[ 1.  0.  0.  0.  1.  1.  0.  1.  0.  1.  0.  1.  0.  1.  0.  1.  1.  1.\n",
      "  0.  0.  0.  1.  1.  0.  1.  1.  1.  0.  1.  1.  0.  1.  1.  0.  0.  0.\n",
      "  1.  1.  1.  0.  0.  0.  0.  1.  0.  0.  1.]\n",
      "[[ 0.02251182  0.01847929  0.01530311 ...,  0.00101926  0.00741391\n",
      "   0.09530951]\n",
      " [ 0.02793621  0.02328045  0.02295923 ...,  0.00537242  0.00399705\n",
      "   0.00248489]\n",
      " [ 0.06133245  0.03421076  0.03331228 ...,  0.00776699  0.00261622\n",
      "   0.00817355]\n",
      " ..., \n",
      " [ 0.02205252  0.00693754  0.00534815 ...,  0.0145044   0.00891971\n",
      "   0.02356592]\n",
      " [ 0.00902015  0.01334715  0.0692479  ...,  0.0231708   0.12241151\n",
      "   0.12846059]\n",
      " [ 0.05344011  0.03755282  0.0458027  ...,  0.04091257  0.01071437\n",
      "   0.00615879]]\n"
     ]
    }
   ],
   "source": [
    "print(y_test)\n",
    "#print(y_score)\n",
    "print(svc.predict(X_test))\n",
    "print(X_test)"
   ]
  },
  {
   "cell_type": "code",
   "execution_count": 9,
   "metadata": {},
   "outputs": [
    {
     "name": "stderr",
     "output_type": "stream",
     "text": [
      "/Users/saurabh/anaconda3/lib/python3.5/site-packages/skimage/feature/_hog.py:119: skimage_deprecation: Default value of `block_norm`==`L1` is deprecated and will be changed to `L2-Hys` in v0.15\n",
      "  'be changed to `L2-Hys` in v0.15', skimage_deprecation)\n"
     ]
    },
    {
     "name": "stdout",
     "output_type": "stream",
     "text": [
      "4544 0.851063829787\n",
      "1794 0.963636363636\n",
      "10422 0.944444444444\n",
      "6854 0.909090909091\n",
      "586 0.878048780488\n",
      "11211 0.866666666667\n",
      "8525 0.836363636364\n",
      "4431 0.90243902439\n",
      "10192 0.830188679245\n",
      "11665 0.930107526882\n",
      "2901 0.941747572816\n",
      "8790 0.886363636364\n",
      "3735 0.96062992126\n",
      "3929 0.961538461538\n",
      "2843 1.0\n",
      "8717 0.876543209877\n",
      "3807 0.862745098039\n",
      "3684 0.927165354331\n",
      "12133 0.93\n",
      "8143 0.928057553957\n",
      "359 0.895348837209\n",
      "7247 0.905405405405\n",
      "6704 0.864661654135\n",
      "6833 0.971014492754\n",
      "9523 0.891304347826\n",
      "2038 0.897959183673\n",
      "1594 0.924528301887\n",
      "9753 0.875\n",
      "Avg score:  0.907573674717\n"
     ]
    }
   ],
   "source": [
    "class_score_map = test_all_classes(training_data_map)\n",
    "avg_score = 0\n",
    "for key, score in class_score_map.items():\n",
    "    print(key, score)\n",
    "    avg_score += score\n",
    "\n",
    "print('Avg score: ', avg_score/len(class_score_map))"
   ]
  }
 ],
 "metadata": {
  "kernelspec": {
   "display_name": "Python 3",
   "language": "python",
   "name": "python3"
  },
  "language_info": {
   "codemirror_mode": {
    "name": "ipython",
    "version": 3
   },
   "file_extension": ".py",
   "mimetype": "text/x-python",
   "name": "python",
   "nbconvert_exporter": "python",
   "pygments_lexer": "ipython3",
   "version": "3.5.4"
  }
 },
 "nbformat": 4,
 "nbformat_minor": 2
}
